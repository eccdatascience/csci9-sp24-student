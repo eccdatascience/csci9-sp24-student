# Initialize Otter
import otter
grader = otter.Notebook("lab05.ipynb")








from IPython.display import YouTubeVideo

YouTubeVideo("v=2Jd1edAOT4E", list='PLQCcNQgUcDfp1e51PkXRnvBI3A7vvEhGd', istType = 'playlist')











import pandas as pd
import numpy as np
import seaborn as sns
import matplotlib.pyplot as plt
from IPython.display import display, Markdown, Latex

plt.style.use('fivethirtyeight') # Use plt.style.available to see more styles
sns.set()
sns.set_context("talk")
%matplotlib inline











wb = pd.read_csv("data/world_bank_misc.csv", index_col=0)
wb.head()





display(Markdown('\n'.join(fr'{i + 1}. {c}'.replace('$', r'\$') for i, c in enumerate(wb.columns))))





# Run this next line to create a DataFrame with the appropriate index; no further action is needed.
df = pd.DataFrame(index=wb.index)

# Run this next line to create copies of the Series we want; no further action is needed.
# The "\" syntax lets us continue to write on the next line.
df['lit'] = wb['Adult literacy rate: Female: % ages 15 and older: 2005-14'] \
            + wb["Adult literacy rate: Male: % ages 15 and older: 2005-14"]
df['inc'] = wb['Gross national income per capita, Atlas method: $: 2016']

# Run this next line to drop all records that have a NaN value in either column; no further action is needed.
df.dropna(inplace=True)
print("Original records:", len(wb))
print("Final records:", len(df))


df.head(5)








sns.countplot(data=df, x="lit")
plt.xlabel("Combined literacy rate (ages >=15; 2005-2014)")
plt.title('World Bank Combined Adult Literacy Rate');


sns.countplot(data=df, x="inc")
plt.xlabel('Gross national income per capita, Atlas method: $: 2016', fontsize=15)
plt.title('World Bank Gross National Income Per Capita');











...





# Run this cell to overlay a rugplot on the displot; no further action is needed.
sns.displot(data=df, x="inc")
sns.rugplot(data=df, x="inc")
plt.xlabel('Gross national income per capita, Atlas method: $: 2016', fontsize=15)
plt.title('World Bank Gross National Income Per Capita');





# Run this cell to overlay a rugplot on the histplot; no further action is needed.
sns.histplot(data=df, x="inc", color="lightsteelblue")
sns.rugplot(data=df, x="inc")
plt.xlabel('Gross national income per capita, Atlas method: $: 2016', fontsize=15)
plt.title('World Bank Gross National Income Per Capita');








# Run this cell to generate a displot; no further action is needed.
sns.displot(data=df, x="inc", rug=True, kde=True)
plt.xlabel('Gross national income per capita, Atlas method: $: 2016', fontsize=15)
plt.title('World Bank Gross National Income Per Capita');








# Run this cell to generate a displot; no further action is needed.
sns.displot(data=df, x="lit", rug=True, kde=True, stat="density")
plt.xlabel("Combined adult literacy rate (%) ages >=15; 2005-14", fontsize=14)
plt.title('World Bank Combined Adult Literacy Rate');








...





# Run this cell to generate the plot; no further action is needed.
ax = sns.displot(data=df, x=df['lit']**4, kde=True, stat='density')
plt.xlabel("Combined adult literacy rate (%) ages >=15; 2005-2014", fontsize=14)
plt.ylabel('Density')
plt.title('World Bank Combined Adult Literacy Rate (4th power)', pad=30);





...





sns.scatterplot(data=df, x='lit', y=np.log10(df['inc']))
plt.xlabel("Combined adult literacy rate (%) ages >=15; 2005-2014", fontsize=14)
plt.ylabel('Gross national income per capita (log scale)', fontsize=15)
plt.title('World Bank: Gross National Income Per Capita vs\n Combined Adult Literacy Rate');





plt.figure(figsize=(10,5))
...











# Run this cell to create KDE plot and histogram using distplot; no further action is needed.
data3pts = np.array([2, 4, 9])
sns.distplot(data3pts, kde=True);





# Run this cell to create KDE plot and histogram using displot; no further action is needed.
plt.figure(figsize=(5, 15))
sns.displot(data3pts, kde=True, stat="density", kde_kws={"cut":4}, bins=2, height=5, aspect=1.5);





# Run this cell to plot distplot with the specified bandwidth. Try setting bw to different values.
sns.distplot(data3pts, kde=True, kde_kws={"bw": 0.5});





# Run this cell to plot displot with the specified bandwidth. 
plt.figure(figsize=(5, 15))
sns.displot(data3pts, kde=True, stat="density", kde_kws={"bw_method": 0.5, "cut":4}, bins=2, height=5, aspect=1.5);











def gaussian_kernel(alpha, x, z):
    """
    Compute the Gaussian density estimate for values in x.

    Args:
        alpha: the smoothing parameter to pass to the kernel.
        x: an array of values whose density will be calculated.
        z: center of Gaussian.

    Returns:
        The smoothed estimate at values of x.
    """    
    return 1.0/np.sqrt(2. * np.pi * alpha**2) * np.exp(-(x - z) ** 2 / (2.0 * alpha**2))





xs = np.linspace(-2, 12, 200)
alpha = 0.5
kde_curve = [gaussian_kernel(alpha, x, 9) for x in xs]
plt.plot(xs, kde_curve);





...





# Run this cell to plot the sum of the kernels; no further action is needed.
xs = np.linspace(-2, 12, 200)
alpha = 0.5
kde_curve = np.array([1/3 * gaussian_kernel(alpha, x, data3pts) for x in xs])
plt.plot(xs, np.sum(kde_curve, axis=1));





# Run this cell to plot KDE of log income; no further action is needed.
ax = sns.displot(data=df, x=np.log10(df['inc']), kind='kde', rug=True)
plt.xlabel('Log Gross national income per capita, Atlas method: $: 2016', fontsize=13)
plt.title('World Bank Gross National Income Per Capita');





# Run this cell to plot KDE of log income; try out different bandwidths!
xs = np.linspace(1, 6, 200)
alpha = 0.5
kde_curve = np.array([1/len(df['inc']) * gaussian_kernel(alpha, x, np.log10(df['inc'])) for x in xs])
plt.xlabel('Log Gross national income per capita, Atlas method: $: 2016', fontsize=13)
plt.ylabel("Density")
plt.title('World Bank Gross National Income Per Capita')
plt.plot(xs, np.sum(kde_curve, axis = 1));











def kde(kernel, alpha, x, data):
    """
    Compute the kernel density estimate for the single query point x.

    Args:
        kernel: a kernel function with 3 parameters: alpha, x, and data.
        alpha: the smoothing parameter to pass to the kernel.
        x: a single query point (in one dimension).
        data: a NumPy array of data points.

    Returns:
        The smoothed estimate at the query point x.
    """    
    ...
kde(gaussian_kernel, 1.0, 2.0, np.array([3.0, 4.0, 5.0, 7.0]))


grader.check("q2b")





# Run this cell to generate the kde of the log of the income data; no further action is needed.
df['trans_inc'] = np.log10(df['inc'])
xs = np.linspace(df['trans_inc'].min(), df['trans_inc'].max(), 1000)
curve = [kde(gaussian_kernel, alpha, x, df['trans_inc']) for x in xs]
plt.hist(df['trans_inc'], density=True, color='orange')
plt.xlabel('Log Gross national income per capita, Atlas method: $: 2016', fontsize = 13);
plt.title('World Bank Gross National Income Per Capita')
plt.plot(xs, curve, 'k-');





# Run this cell to generate the kde of the log of the income data 
# with different alphas values, no further action is needed.
plt.figure(figsize=(15,15))
alphas = np.arange(0.2, 2.0, 0.2)
for i, alpha in enumerate(alphas):
    plt.subplot(3, 3, i+1)
    xs = np.linspace(df['trans_inc'].min(), df['trans_inc'].max(), 1000)
    curve = [kde(gaussian_kernel, alpha, x, df['trans_inc']) for x in xs]
    plt.hist(df['trans_inc'], density=True, color='orange')
    plt.plot(xs, curve, 'k-')
    plt.title(r"$\alpha = " + format(alpha, ".02") + "$")
plt.show()





def boxcar_kernel(alpha, x, z):
    """
    Compute the boxcar density estimate for values in x.

    Args:
        alpha: the smoothing parameter to pass to the kernel.
        x: an array of values whose density will be calculated.
        z: center of boxcar function.

    Returns:
        The smoothed estimate at values of x.
    """    
    return (((x-z)>=-alpha/2)&((x-z)<=alpha/2))/alpha





from ipywidgets import interact





x = np.linspace(-10,10,1000)
def f(alpha):
    plt.plot(x, boxcar_kernel(alpha,x,0), label='Boxcar')
    plt.plot(x, gaussian_kernel(alpha,x,0), label='Gaussian')
    plt.legend(title='Kernel Function')
    plt.show()
interact(f, alpha=(1,10,0.1));





demo = 1 # ... # set this value to 1 or 2

if demo == 1:
    xs = np.linspace(data3pts.min()-3, data3pts.max()+3, 1000)
    def f(alpha_g, alpha_b):
        plt.hist(data3pts, density=True, color='orange')
        g_curve = [kde(gaussian_kernel, alpha_g, x, data3pts) for x in xs]
        plt.plot(xs, g_curve, 'k-', label='Gaussian')
        b_curve = [kde(boxcar_kernel, alpha_b, x, data3pts) for x in xs]
        plt.plot(xs, b_curve, 'r-', label='Boxcar')
        plt.legend(title='Kernel Function')
        plt.show()
    interact(f, alpha_g=(0.01,.5,0.01), alpha_b=(0.01,3,0.1));
else:
    xs = np.linspace(df['trans_inc'].min(), df['trans_inc'].max(), 1000)
    def f(alpha_g, alpha_b):
        plt.hist(df['trans_inc'], density=True, color='orange')
        g_curve = [kde(gaussian_kernel, alpha_g, x, df['trans_inc']) for x in xs]
        plt.plot(xs, g_curve, 'k-', label='Gaussian')
        b_curve = [kde(boxcar_kernel, alpha_b, x, df['trans_inc']) for x in xs]
        plt.plot(xs, b_curve, 'r-', label='Boxcar')
        plt.legend(title='Kernel Function')
        plt.show()
    interact(f, alpha_g=(0.01,.5,0.01), alpha_b=(0.01,3,0.1));














...





...




















# Save your notebook first, then run this cell to export your submission.
grader.export(pdf=False, run_tests=True)



